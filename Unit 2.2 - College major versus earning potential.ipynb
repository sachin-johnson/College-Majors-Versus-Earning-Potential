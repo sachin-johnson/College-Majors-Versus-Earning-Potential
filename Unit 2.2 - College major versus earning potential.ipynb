{
 "cells": [
  {
   "cell_type": "markdown",
   "metadata": {},
   "source": [
    "# College Majors Versus Earning Potential\n",
    "\n",
    "For this project we'll be working with a dataset on the job outcomes of students who graduated from college between 2010 and 2012. The original data on job outcomes was released by [American Community Survey](https://www.census.gov/programs-surveys/acs/), which conducts surveys and aggregates the data. FiveThirtyEight cleaned the dataset and released it on their [Github repo](https://github.com/fivethirtyeight/data/tree/master/college-majors).\n",
    "\n",
    "## Aim\n",
    "\n",
    "To Visualize the effect of gender distribution and popularity of various college majors on the future\n",
    "earnings potential.\n",
    "\n",
    "## Dataset\n",
    "\n",
    "Each row in the dataset represents a different major in college and contains information on gender diversity, employment rates, median salaries, and more. Here are some of the columns in the dataset:\n",
    "\n",
    "* `Rank` - Rank by median earnings (the dataset is ordered by this column).\n",
    "* `Major_code` - Major code.\n",
    "* `Major` - Major description.\n",
    "* `Major_category` - Category of major.\n",
    "* `Total` - Total number of people with major.\n",
    "* `Sample_size` - Sample size (unweighted) of full-time.\n",
    "* `Men` - Male graduates.\n",
    "* `Women` - Female graduates.\n",
    "* `ShareWomen` - Women as share of total.\n",
    "* `Employed` - Number employed.\n",
    "* `Median` - Median salary of full-time, year-round workers.\n",
    "* `Low_wage_jobs` - Number in low-wage service jobs.\n",
    "* `Full_time` - Number employed 35 hours or more.\n",
    "* `Part_time` - Number employed less than 35 hours.\n",
    "\n",
    "Let's start by importing the libraries needed for this project."
   ]
  },
  {
   "cell_type": "code",
   "execution_count": 1,
   "metadata": {},
   "outputs": [],
   "source": [
    "# Importing Libraries and to display the plots inline.\n",
    "\n",
    "import pandas as pd\n",
    "import matplotlib.pyplot as plt\n",
    "%matplotlib inline"
   ]
  },
  {
   "cell_type": "code",
   "execution_count": 2,
   "metadata": {},
   "outputs": [],
   "source": [
    "# To avoid truncation of rows and columns in pandas.\n",
    "\n",
    "pd.set_option('display.max_columns', None)\n",
    "pd.set_option('display.max_rows', None)"
   ]
  },
  {
   "cell_type": "code",
   "execution_count": 3,
   "metadata": {},
   "outputs": [
    {
     "name": "stdout",
     "output_type": "stream",
     "text": [
      "The first row in the dataset\n",
      "----------------------------\n"
     ]
    },
    {
     "data": {
      "text/plain": [
       "Rank                                        1\n",
       "Major_code                               2419\n",
       "Major                   PETROLEUM ENGINEERING\n",
       "Total                                  2339.0\n",
       "Men                                    2057.0\n",
       "Women                                   282.0\n",
       "Major_category                    Engineering\n",
       "ShareWomen                           0.120564\n",
       "Sample_size                                36\n",
       "Employed                                 1976\n",
       "Full_time                                1849\n",
       "Part_time                                 270\n",
       "Full_time_year_round                     1207\n",
       "Unemployed                                 37\n",
       "Unemployment_rate                    0.018381\n",
       "Median                                 110000\n",
       "P25th                                   95000\n",
       "P75th                                  125000\n",
       "College_jobs                             1534\n",
       "Non_college_jobs                          364\n",
       "Low_wage_jobs                             193\n",
       "Name: 0, dtype: object"
      ]
     },
     "execution_count": 3,
     "metadata": {},
     "output_type": "execute_result"
    }
   ],
   "source": [
    "# To open the file and to print the first row as a table.\n",
    "\n",
    "recent_grads = pd.read_csv(\"recent-grads.csv\")\n",
    "print(\"The first row in the dataset\")\n",
    "print(\"----------------------------\")\n",
    "recent_grads.iloc[0]"
   ]
  },
  {
   "cell_type": "code",
   "execution_count": 4,
   "metadata": {},
   "outputs": [
    {
     "name": "stdout",
     "output_type": "stream",
     "text": [
      "The first five rows\n",
      "-------------------\n"
     ]
    },
    {
     "data": {
      "text/html": [
       "<div>\n",
       "<style scoped>\n",
       "    .dataframe tbody tr th:only-of-type {\n",
       "        vertical-align: middle;\n",
       "    }\n",
       "\n",
       "    .dataframe tbody tr th {\n",
       "        vertical-align: top;\n",
       "    }\n",
       "\n",
       "    .dataframe thead th {\n",
       "        text-align: right;\n",
       "    }\n",
       "</style>\n",
       "<table border=\"1\" class=\"dataframe\">\n",
       "  <thead>\n",
       "    <tr style=\"text-align: right;\">\n",
       "      <th></th>\n",
       "      <th>Rank</th>\n",
       "      <th>Major_code</th>\n",
       "      <th>Major</th>\n",
       "      <th>Total</th>\n",
       "      <th>Men</th>\n",
       "      <th>Women</th>\n",
       "      <th>Major_category</th>\n",
       "      <th>ShareWomen</th>\n",
       "      <th>Sample_size</th>\n",
       "      <th>Employed</th>\n",
       "      <th>Full_time</th>\n",
       "      <th>Part_time</th>\n",
       "      <th>Full_time_year_round</th>\n",
       "      <th>Unemployed</th>\n",
       "      <th>Unemployment_rate</th>\n",
       "      <th>Median</th>\n",
       "      <th>P25th</th>\n",
       "      <th>P75th</th>\n",
       "      <th>College_jobs</th>\n",
       "      <th>Non_college_jobs</th>\n",
       "      <th>Low_wage_jobs</th>\n",
       "    </tr>\n",
       "  </thead>\n",
       "  <tbody>\n",
       "    <tr>\n",
       "      <th>0</th>\n",
       "      <td>1</td>\n",
       "      <td>2419</td>\n",
       "      <td>PETROLEUM ENGINEERING</td>\n",
       "      <td>2339.0</td>\n",
       "      <td>2057.0</td>\n",
       "      <td>282.0</td>\n",
       "      <td>Engineering</td>\n",
       "      <td>0.120564</td>\n",
       "      <td>36</td>\n",
       "      <td>1976</td>\n",
       "      <td>1849</td>\n",
       "      <td>270</td>\n",
       "      <td>1207</td>\n",
       "      <td>37</td>\n",
       "      <td>0.018381</td>\n",
       "      <td>110000</td>\n",
       "      <td>95000</td>\n",
       "      <td>125000</td>\n",
       "      <td>1534</td>\n",
       "      <td>364</td>\n",
       "      <td>193</td>\n",
       "    </tr>\n",
       "    <tr>\n",
       "      <th>1</th>\n",
       "      <td>2</td>\n",
       "      <td>2416</td>\n",
       "      <td>MINING AND MINERAL ENGINEERING</td>\n",
       "      <td>756.0</td>\n",
       "      <td>679.0</td>\n",
       "      <td>77.0</td>\n",
       "      <td>Engineering</td>\n",
       "      <td>0.101852</td>\n",
       "      <td>7</td>\n",
       "      <td>640</td>\n",
       "      <td>556</td>\n",
       "      <td>170</td>\n",
       "      <td>388</td>\n",
       "      <td>85</td>\n",
       "      <td>0.117241</td>\n",
       "      <td>75000</td>\n",
       "      <td>55000</td>\n",
       "      <td>90000</td>\n",
       "      <td>350</td>\n",
       "      <td>257</td>\n",
       "      <td>50</td>\n",
       "    </tr>\n",
       "    <tr>\n",
       "      <th>2</th>\n",
       "      <td>3</td>\n",
       "      <td>2415</td>\n",
       "      <td>METALLURGICAL ENGINEERING</td>\n",
       "      <td>856.0</td>\n",
       "      <td>725.0</td>\n",
       "      <td>131.0</td>\n",
       "      <td>Engineering</td>\n",
       "      <td>0.153037</td>\n",
       "      <td>3</td>\n",
       "      <td>648</td>\n",
       "      <td>558</td>\n",
       "      <td>133</td>\n",
       "      <td>340</td>\n",
       "      <td>16</td>\n",
       "      <td>0.024096</td>\n",
       "      <td>73000</td>\n",
       "      <td>50000</td>\n",
       "      <td>105000</td>\n",
       "      <td>456</td>\n",
       "      <td>176</td>\n",
       "      <td>0</td>\n",
       "    </tr>\n",
       "    <tr>\n",
       "      <th>3</th>\n",
       "      <td>4</td>\n",
       "      <td>2417</td>\n",
       "      <td>NAVAL ARCHITECTURE AND MARINE ENGINEERING</td>\n",
       "      <td>1258.0</td>\n",
       "      <td>1123.0</td>\n",
       "      <td>135.0</td>\n",
       "      <td>Engineering</td>\n",
       "      <td>0.107313</td>\n",
       "      <td>16</td>\n",
       "      <td>758</td>\n",
       "      <td>1069</td>\n",
       "      <td>150</td>\n",
       "      <td>692</td>\n",
       "      <td>40</td>\n",
       "      <td>0.050125</td>\n",
       "      <td>70000</td>\n",
       "      <td>43000</td>\n",
       "      <td>80000</td>\n",
       "      <td>529</td>\n",
       "      <td>102</td>\n",
       "      <td>0</td>\n",
       "    </tr>\n",
       "    <tr>\n",
       "      <th>4</th>\n",
       "      <td>5</td>\n",
       "      <td>2405</td>\n",
       "      <td>CHEMICAL ENGINEERING</td>\n",
       "      <td>32260.0</td>\n",
       "      <td>21239.0</td>\n",
       "      <td>11021.0</td>\n",
       "      <td>Engineering</td>\n",
       "      <td>0.341631</td>\n",
       "      <td>289</td>\n",
       "      <td>25694</td>\n",
       "      <td>23170</td>\n",
       "      <td>5180</td>\n",
       "      <td>16697</td>\n",
       "      <td>1672</td>\n",
       "      <td>0.061098</td>\n",
       "      <td>65000</td>\n",
       "      <td>50000</td>\n",
       "      <td>75000</td>\n",
       "      <td>18314</td>\n",
       "      <td>4440</td>\n",
       "      <td>972</td>\n",
       "    </tr>\n",
       "  </tbody>\n",
       "</table>\n",
       "</div>"
      ],
      "text/plain": [
       "   Rank  Major_code                                      Major    Total  \\\n",
       "0     1        2419                      PETROLEUM ENGINEERING   2339.0   \n",
       "1     2        2416             MINING AND MINERAL ENGINEERING    756.0   \n",
       "2     3        2415                  METALLURGICAL ENGINEERING    856.0   \n",
       "3     4        2417  NAVAL ARCHITECTURE AND MARINE ENGINEERING   1258.0   \n",
       "4     5        2405                       CHEMICAL ENGINEERING  32260.0   \n",
       "\n",
       "       Men    Women Major_category  ShareWomen  Sample_size  Employed  \\\n",
       "0   2057.0    282.0    Engineering    0.120564           36      1976   \n",
       "1    679.0     77.0    Engineering    0.101852            7       640   \n",
       "2    725.0    131.0    Engineering    0.153037            3       648   \n",
       "3   1123.0    135.0    Engineering    0.107313           16       758   \n",
       "4  21239.0  11021.0    Engineering    0.341631          289     25694   \n",
       "\n",
       "   Full_time  Part_time  Full_time_year_round  Unemployed  Unemployment_rate  \\\n",
       "0       1849        270                  1207          37           0.018381   \n",
       "1        556        170                   388          85           0.117241   \n",
       "2        558        133                   340          16           0.024096   \n",
       "3       1069        150                   692          40           0.050125   \n",
       "4      23170       5180                 16697        1672           0.061098   \n",
       "\n",
       "   Median  P25th   P75th  College_jobs  Non_college_jobs  Low_wage_jobs  \n",
       "0  110000  95000  125000          1534               364            193  \n",
       "1   75000  55000   90000           350               257             50  \n",
       "2   73000  50000  105000           456               176              0  \n",
       "3   70000  43000   80000           529               102              0  \n",
       "4   65000  50000   75000         18314              4440            972  "
      ]
     },
     "execution_count": 4,
     "metadata": {},
     "output_type": "execute_result"
    }
   ],
   "source": [
    "# To print the first five rows.\n",
    "\n",
    "print(\"The first five rows\")\n",
    "print(\"-------------------\")\n",
    "recent_grads.head()"
   ]
  },
  {
   "cell_type": "code",
   "execution_count": 5,
   "metadata": {},
   "outputs": [
    {
     "name": "stdout",
     "output_type": "stream",
     "text": [
      "The last five rows\n",
      "------------------\n"
     ]
    },
    {
     "data": {
      "text/html": [
       "<div>\n",
       "<style scoped>\n",
       "    .dataframe tbody tr th:only-of-type {\n",
       "        vertical-align: middle;\n",
       "    }\n",
       "\n",
       "    .dataframe tbody tr th {\n",
       "        vertical-align: top;\n",
       "    }\n",
       "\n",
       "    .dataframe thead th {\n",
       "        text-align: right;\n",
       "    }\n",
       "</style>\n",
       "<table border=\"1\" class=\"dataframe\">\n",
       "  <thead>\n",
       "    <tr style=\"text-align: right;\">\n",
       "      <th></th>\n",
       "      <th>Rank</th>\n",
       "      <th>Major_code</th>\n",
       "      <th>Major</th>\n",
       "      <th>Total</th>\n",
       "      <th>Men</th>\n",
       "      <th>Women</th>\n",
       "      <th>Major_category</th>\n",
       "      <th>ShareWomen</th>\n",
       "      <th>Sample_size</th>\n",
       "      <th>Employed</th>\n",
       "      <th>Full_time</th>\n",
       "      <th>Part_time</th>\n",
       "      <th>Full_time_year_round</th>\n",
       "      <th>Unemployed</th>\n",
       "      <th>Unemployment_rate</th>\n",
       "      <th>Median</th>\n",
       "      <th>P25th</th>\n",
       "      <th>P75th</th>\n",
       "      <th>College_jobs</th>\n",
       "      <th>Non_college_jobs</th>\n",
       "      <th>Low_wage_jobs</th>\n",
       "    </tr>\n",
       "  </thead>\n",
       "  <tbody>\n",
       "    <tr>\n",
       "      <th>168</th>\n",
       "      <td>169</td>\n",
       "      <td>3609</td>\n",
       "      <td>ZOOLOGY</td>\n",
       "      <td>8409.0</td>\n",
       "      <td>3050.0</td>\n",
       "      <td>5359.0</td>\n",
       "      <td>Biology &amp; Life Science</td>\n",
       "      <td>0.637293</td>\n",
       "      <td>47</td>\n",
       "      <td>6259</td>\n",
       "      <td>5043</td>\n",
       "      <td>2190</td>\n",
       "      <td>3602</td>\n",
       "      <td>304</td>\n",
       "      <td>0.046320</td>\n",
       "      <td>26000</td>\n",
       "      <td>20000</td>\n",
       "      <td>39000</td>\n",
       "      <td>2771</td>\n",
       "      <td>2947</td>\n",
       "      <td>743</td>\n",
       "    </tr>\n",
       "    <tr>\n",
       "      <th>169</th>\n",
       "      <td>170</td>\n",
       "      <td>5201</td>\n",
       "      <td>EDUCATIONAL PSYCHOLOGY</td>\n",
       "      <td>2854.0</td>\n",
       "      <td>522.0</td>\n",
       "      <td>2332.0</td>\n",
       "      <td>Psychology &amp; Social Work</td>\n",
       "      <td>0.817099</td>\n",
       "      <td>7</td>\n",
       "      <td>2125</td>\n",
       "      <td>1848</td>\n",
       "      <td>572</td>\n",
       "      <td>1211</td>\n",
       "      <td>148</td>\n",
       "      <td>0.065112</td>\n",
       "      <td>25000</td>\n",
       "      <td>24000</td>\n",
       "      <td>34000</td>\n",
       "      <td>1488</td>\n",
       "      <td>615</td>\n",
       "      <td>82</td>\n",
       "    </tr>\n",
       "    <tr>\n",
       "      <th>170</th>\n",
       "      <td>171</td>\n",
       "      <td>5202</td>\n",
       "      <td>CLINICAL PSYCHOLOGY</td>\n",
       "      <td>2838.0</td>\n",
       "      <td>568.0</td>\n",
       "      <td>2270.0</td>\n",
       "      <td>Psychology &amp; Social Work</td>\n",
       "      <td>0.799859</td>\n",
       "      <td>13</td>\n",
       "      <td>2101</td>\n",
       "      <td>1724</td>\n",
       "      <td>648</td>\n",
       "      <td>1293</td>\n",
       "      <td>368</td>\n",
       "      <td>0.149048</td>\n",
       "      <td>25000</td>\n",
       "      <td>25000</td>\n",
       "      <td>40000</td>\n",
       "      <td>986</td>\n",
       "      <td>870</td>\n",
       "      <td>622</td>\n",
       "    </tr>\n",
       "    <tr>\n",
       "      <th>171</th>\n",
       "      <td>172</td>\n",
       "      <td>5203</td>\n",
       "      <td>COUNSELING PSYCHOLOGY</td>\n",
       "      <td>4626.0</td>\n",
       "      <td>931.0</td>\n",
       "      <td>3695.0</td>\n",
       "      <td>Psychology &amp; Social Work</td>\n",
       "      <td>0.798746</td>\n",
       "      <td>21</td>\n",
       "      <td>3777</td>\n",
       "      <td>3154</td>\n",
       "      <td>965</td>\n",
       "      <td>2738</td>\n",
       "      <td>214</td>\n",
       "      <td>0.053621</td>\n",
       "      <td>23400</td>\n",
       "      <td>19200</td>\n",
       "      <td>26000</td>\n",
       "      <td>2403</td>\n",
       "      <td>1245</td>\n",
       "      <td>308</td>\n",
       "    </tr>\n",
       "    <tr>\n",
       "      <th>172</th>\n",
       "      <td>173</td>\n",
       "      <td>3501</td>\n",
       "      <td>LIBRARY SCIENCE</td>\n",
       "      <td>1098.0</td>\n",
       "      <td>134.0</td>\n",
       "      <td>964.0</td>\n",
       "      <td>Education</td>\n",
       "      <td>0.877960</td>\n",
       "      <td>2</td>\n",
       "      <td>742</td>\n",
       "      <td>593</td>\n",
       "      <td>237</td>\n",
       "      <td>410</td>\n",
       "      <td>87</td>\n",
       "      <td>0.104946</td>\n",
       "      <td>22000</td>\n",
       "      <td>20000</td>\n",
       "      <td>22000</td>\n",
       "      <td>288</td>\n",
       "      <td>338</td>\n",
       "      <td>192</td>\n",
       "    </tr>\n",
       "  </tbody>\n",
       "</table>\n",
       "</div>"
      ],
      "text/plain": [
       "     Rank  Major_code                   Major   Total     Men   Women  \\\n",
       "168   169        3609                 ZOOLOGY  8409.0  3050.0  5359.0   \n",
       "169   170        5201  EDUCATIONAL PSYCHOLOGY  2854.0   522.0  2332.0   \n",
       "170   171        5202     CLINICAL PSYCHOLOGY  2838.0   568.0  2270.0   \n",
       "171   172        5203   COUNSELING PSYCHOLOGY  4626.0   931.0  3695.0   \n",
       "172   173        3501         LIBRARY SCIENCE  1098.0   134.0   964.0   \n",
       "\n",
       "               Major_category  ShareWomen  Sample_size  Employed  Full_time  \\\n",
       "168    Biology & Life Science    0.637293           47      6259       5043   \n",
       "169  Psychology & Social Work    0.817099            7      2125       1848   \n",
       "170  Psychology & Social Work    0.799859           13      2101       1724   \n",
       "171  Psychology & Social Work    0.798746           21      3777       3154   \n",
       "172                 Education    0.877960            2       742        593   \n",
       "\n",
       "     Part_time  Full_time_year_round  Unemployed  Unemployment_rate  Median  \\\n",
       "168       2190                  3602         304           0.046320   26000   \n",
       "169        572                  1211         148           0.065112   25000   \n",
       "170        648                  1293         368           0.149048   25000   \n",
       "171        965                  2738         214           0.053621   23400   \n",
       "172        237                   410          87           0.104946   22000   \n",
       "\n",
       "     P25th  P75th  College_jobs  Non_college_jobs  Low_wage_jobs  \n",
       "168  20000  39000          2771              2947            743  \n",
       "169  24000  34000          1488               615             82  \n",
       "170  25000  40000           986               870            622  \n",
       "171  19200  26000          2403              1245            308  \n",
       "172  20000  22000           288               338            192  "
      ]
     },
     "execution_count": 5,
     "metadata": {},
     "output_type": "execute_result"
    }
   ],
   "source": [
    "# To print the last five rows.\n",
    "\n",
    "print(\"The last five rows\")\n",
    "print(\"------------------\")\n",
    "recent_grads.tail()"
   ]
  },
  {
   "cell_type": "markdown",
   "metadata": {},
   "source": [
    "## Data Cleaning\n",
    "\n",
    "Let's begin our analysis by generating a statistics summary for all columns. "
   ]
  },
  {
   "cell_type": "code",
   "execution_count": 6,
   "metadata": {},
   "outputs": [
    {
     "data": {
      "text/html": [
       "<div>\n",
       "<style scoped>\n",
       "    .dataframe tbody tr th:only-of-type {\n",
       "        vertical-align: middle;\n",
       "    }\n",
       "\n",
       "    .dataframe tbody tr th {\n",
       "        vertical-align: top;\n",
       "    }\n",
       "\n",
       "    .dataframe thead th {\n",
       "        text-align: right;\n",
       "    }\n",
       "</style>\n",
       "<table border=\"1\" class=\"dataframe\">\n",
       "  <thead>\n",
       "    <tr style=\"text-align: right;\">\n",
       "      <th></th>\n",
       "      <th>Rank</th>\n",
       "      <th>Major_code</th>\n",
       "      <th>Major</th>\n",
       "      <th>Total</th>\n",
       "      <th>Men</th>\n",
       "      <th>Women</th>\n",
       "      <th>Major_category</th>\n",
       "      <th>ShareWomen</th>\n",
       "      <th>Sample_size</th>\n",
       "      <th>Employed</th>\n",
       "      <th>Full_time</th>\n",
       "      <th>Part_time</th>\n",
       "      <th>Full_time_year_round</th>\n",
       "      <th>Unemployed</th>\n",
       "      <th>Unemployment_rate</th>\n",
       "      <th>Median</th>\n",
       "      <th>P25th</th>\n",
       "      <th>P75th</th>\n",
       "      <th>College_jobs</th>\n",
       "      <th>Non_college_jobs</th>\n",
       "      <th>Low_wage_jobs</th>\n",
       "    </tr>\n",
       "  </thead>\n",
       "  <tbody>\n",
       "    <tr>\n",
       "      <th>count</th>\n",
       "      <td>173.000000</td>\n",
       "      <td>173.000000</td>\n",
       "      <td>173</td>\n",
       "      <td>172.000000</td>\n",
       "      <td>172.000000</td>\n",
       "      <td>172.000000</td>\n",
       "      <td>173</td>\n",
       "      <td>172.000000</td>\n",
       "      <td>173.000000</td>\n",
       "      <td>173.000000</td>\n",
       "      <td>173.000000</td>\n",
       "      <td>173.000000</td>\n",
       "      <td>173.000000</td>\n",
       "      <td>173.000000</td>\n",
       "      <td>173.000000</td>\n",
       "      <td>173.000000</td>\n",
       "      <td>173.000000</td>\n",
       "      <td>173.000000</td>\n",
       "      <td>173.000000</td>\n",
       "      <td>173.000000</td>\n",
       "      <td>173.000000</td>\n",
       "    </tr>\n",
       "    <tr>\n",
       "      <th>unique</th>\n",
       "      <td>NaN</td>\n",
       "      <td>NaN</td>\n",
       "      <td>173</td>\n",
       "      <td>NaN</td>\n",
       "      <td>NaN</td>\n",
       "      <td>NaN</td>\n",
       "      <td>16</td>\n",
       "      <td>NaN</td>\n",
       "      <td>NaN</td>\n",
       "      <td>NaN</td>\n",
       "      <td>NaN</td>\n",
       "      <td>NaN</td>\n",
       "      <td>NaN</td>\n",
       "      <td>NaN</td>\n",
       "      <td>NaN</td>\n",
       "      <td>NaN</td>\n",
       "      <td>NaN</td>\n",
       "      <td>NaN</td>\n",
       "      <td>NaN</td>\n",
       "      <td>NaN</td>\n",
       "      <td>NaN</td>\n",
       "    </tr>\n",
       "    <tr>\n",
       "      <th>top</th>\n",
       "      <td>NaN</td>\n",
       "      <td>NaN</td>\n",
       "      <td>POLITICAL SCIENCE AND GOVERNMENT</td>\n",
       "      <td>NaN</td>\n",
       "      <td>NaN</td>\n",
       "      <td>NaN</td>\n",
       "      <td>Engineering</td>\n",
       "      <td>NaN</td>\n",
       "      <td>NaN</td>\n",
       "      <td>NaN</td>\n",
       "      <td>NaN</td>\n",
       "      <td>NaN</td>\n",
       "      <td>NaN</td>\n",
       "      <td>NaN</td>\n",
       "      <td>NaN</td>\n",
       "      <td>NaN</td>\n",
       "      <td>NaN</td>\n",
       "      <td>NaN</td>\n",
       "      <td>NaN</td>\n",
       "      <td>NaN</td>\n",
       "      <td>NaN</td>\n",
       "    </tr>\n",
       "    <tr>\n",
       "      <th>freq</th>\n",
       "      <td>NaN</td>\n",
       "      <td>NaN</td>\n",
       "      <td>1</td>\n",
       "      <td>NaN</td>\n",
       "      <td>NaN</td>\n",
       "      <td>NaN</td>\n",
       "      <td>29</td>\n",
       "      <td>NaN</td>\n",
       "      <td>NaN</td>\n",
       "      <td>NaN</td>\n",
       "      <td>NaN</td>\n",
       "      <td>NaN</td>\n",
       "      <td>NaN</td>\n",
       "      <td>NaN</td>\n",
       "      <td>NaN</td>\n",
       "      <td>NaN</td>\n",
       "      <td>NaN</td>\n",
       "      <td>NaN</td>\n",
       "      <td>NaN</td>\n",
       "      <td>NaN</td>\n",
       "      <td>NaN</td>\n",
       "    </tr>\n",
       "    <tr>\n",
       "      <th>mean</th>\n",
       "      <td>87.000000</td>\n",
       "      <td>3879.815029</td>\n",
       "      <td>NaN</td>\n",
       "      <td>39370.081395</td>\n",
       "      <td>16723.406977</td>\n",
       "      <td>22646.674419</td>\n",
       "      <td>NaN</td>\n",
       "      <td>0.522223</td>\n",
       "      <td>356.080925</td>\n",
       "      <td>31192.763006</td>\n",
       "      <td>26029.306358</td>\n",
       "      <td>8832.398844</td>\n",
       "      <td>19694.427746</td>\n",
       "      <td>2416.329480</td>\n",
       "      <td>0.068191</td>\n",
       "      <td>40151.445087</td>\n",
       "      <td>29501.445087</td>\n",
       "      <td>51494.219653</td>\n",
       "      <td>12322.635838</td>\n",
       "      <td>13284.497110</td>\n",
       "      <td>3859.017341</td>\n",
       "    </tr>\n",
       "    <tr>\n",
       "      <th>std</th>\n",
       "      <td>50.084928</td>\n",
       "      <td>1687.753140</td>\n",
       "      <td>NaN</td>\n",
       "      <td>63483.491009</td>\n",
       "      <td>28122.433474</td>\n",
       "      <td>41057.330740</td>\n",
       "      <td>NaN</td>\n",
       "      <td>0.231205</td>\n",
       "      <td>618.361022</td>\n",
       "      <td>50675.002241</td>\n",
       "      <td>42869.655092</td>\n",
       "      <td>14648.179473</td>\n",
       "      <td>33160.941514</td>\n",
       "      <td>4112.803148</td>\n",
       "      <td>0.030331</td>\n",
       "      <td>11470.181802</td>\n",
       "      <td>9166.005235</td>\n",
       "      <td>14906.279740</td>\n",
       "      <td>21299.868863</td>\n",
       "      <td>23789.655363</td>\n",
       "      <td>6944.998579</td>\n",
       "    </tr>\n",
       "    <tr>\n",
       "      <th>min</th>\n",
       "      <td>1.000000</td>\n",
       "      <td>1100.000000</td>\n",
       "      <td>NaN</td>\n",
       "      <td>124.000000</td>\n",
       "      <td>119.000000</td>\n",
       "      <td>0.000000</td>\n",
       "      <td>NaN</td>\n",
       "      <td>0.000000</td>\n",
       "      <td>2.000000</td>\n",
       "      <td>0.000000</td>\n",
       "      <td>111.000000</td>\n",
       "      <td>0.000000</td>\n",
       "      <td>111.000000</td>\n",
       "      <td>0.000000</td>\n",
       "      <td>0.000000</td>\n",
       "      <td>22000.000000</td>\n",
       "      <td>18500.000000</td>\n",
       "      <td>22000.000000</td>\n",
       "      <td>0.000000</td>\n",
       "      <td>0.000000</td>\n",
       "      <td>0.000000</td>\n",
       "    </tr>\n",
       "    <tr>\n",
       "      <th>25%</th>\n",
       "      <td>44.000000</td>\n",
       "      <td>2403.000000</td>\n",
       "      <td>NaN</td>\n",
       "      <td>4549.750000</td>\n",
       "      <td>2177.500000</td>\n",
       "      <td>1778.250000</td>\n",
       "      <td>NaN</td>\n",
       "      <td>0.336026</td>\n",
       "      <td>39.000000</td>\n",
       "      <td>3608.000000</td>\n",
       "      <td>3154.000000</td>\n",
       "      <td>1030.000000</td>\n",
       "      <td>2453.000000</td>\n",
       "      <td>304.000000</td>\n",
       "      <td>0.050306</td>\n",
       "      <td>33000.000000</td>\n",
       "      <td>24000.000000</td>\n",
       "      <td>42000.000000</td>\n",
       "      <td>1675.000000</td>\n",
       "      <td>1591.000000</td>\n",
       "      <td>340.000000</td>\n",
       "    </tr>\n",
       "    <tr>\n",
       "      <th>50%</th>\n",
       "      <td>87.000000</td>\n",
       "      <td>3608.000000</td>\n",
       "      <td>NaN</td>\n",
       "      <td>15104.000000</td>\n",
       "      <td>5434.000000</td>\n",
       "      <td>8386.500000</td>\n",
       "      <td>NaN</td>\n",
       "      <td>0.534024</td>\n",
       "      <td>130.000000</td>\n",
       "      <td>11797.000000</td>\n",
       "      <td>10048.000000</td>\n",
       "      <td>3299.000000</td>\n",
       "      <td>7413.000000</td>\n",
       "      <td>893.000000</td>\n",
       "      <td>0.067961</td>\n",
       "      <td>36000.000000</td>\n",
       "      <td>27000.000000</td>\n",
       "      <td>47000.000000</td>\n",
       "      <td>4390.000000</td>\n",
       "      <td>4595.000000</td>\n",
       "      <td>1231.000000</td>\n",
       "    </tr>\n",
       "    <tr>\n",
       "      <th>75%</th>\n",
       "      <td>130.000000</td>\n",
       "      <td>5503.000000</td>\n",
       "      <td>NaN</td>\n",
       "      <td>38909.750000</td>\n",
       "      <td>14631.000000</td>\n",
       "      <td>22553.750000</td>\n",
       "      <td>NaN</td>\n",
       "      <td>0.703299</td>\n",
       "      <td>338.000000</td>\n",
       "      <td>31433.000000</td>\n",
       "      <td>25147.000000</td>\n",
       "      <td>9948.000000</td>\n",
       "      <td>16891.000000</td>\n",
       "      <td>2393.000000</td>\n",
       "      <td>0.087557</td>\n",
       "      <td>45000.000000</td>\n",
       "      <td>33000.000000</td>\n",
       "      <td>60000.000000</td>\n",
       "      <td>14444.000000</td>\n",
       "      <td>11783.000000</td>\n",
       "      <td>3466.000000</td>\n",
       "    </tr>\n",
       "    <tr>\n",
       "      <th>max</th>\n",
       "      <td>173.000000</td>\n",
       "      <td>6403.000000</td>\n",
       "      <td>NaN</td>\n",
       "      <td>393735.000000</td>\n",
       "      <td>173809.000000</td>\n",
       "      <td>307087.000000</td>\n",
       "      <td>NaN</td>\n",
       "      <td>0.968954</td>\n",
       "      <td>4212.000000</td>\n",
       "      <td>307933.000000</td>\n",
       "      <td>251540.000000</td>\n",
       "      <td>115172.000000</td>\n",
       "      <td>199897.000000</td>\n",
       "      <td>28169.000000</td>\n",
       "      <td>0.177226</td>\n",
       "      <td>110000.000000</td>\n",
       "      <td>95000.000000</td>\n",
       "      <td>125000.000000</td>\n",
       "      <td>151643.000000</td>\n",
       "      <td>148395.000000</td>\n",
       "      <td>48207.000000</td>\n",
       "    </tr>\n",
       "  </tbody>\n",
       "</table>\n",
       "</div>"
      ],
      "text/plain": [
       "              Rank   Major_code                             Major  \\\n",
       "count   173.000000   173.000000                               173   \n",
       "unique         NaN          NaN                               173   \n",
       "top            NaN          NaN  POLITICAL SCIENCE AND GOVERNMENT   \n",
       "freq           NaN          NaN                                 1   \n",
       "mean     87.000000  3879.815029                               NaN   \n",
       "std      50.084928  1687.753140                               NaN   \n",
       "min       1.000000  1100.000000                               NaN   \n",
       "25%      44.000000  2403.000000                               NaN   \n",
       "50%      87.000000  3608.000000                               NaN   \n",
       "75%     130.000000  5503.000000                               NaN   \n",
       "max     173.000000  6403.000000                               NaN   \n",
       "\n",
       "                Total            Men          Women Major_category  \\\n",
       "count      172.000000     172.000000     172.000000            173   \n",
       "unique            NaN            NaN            NaN             16   \n",
       "top               NaN            NaN            NaN    Engineering   \n",
       "freq              NaN            NaN            NaN             29   \n",
       "mean     39370.081395   16723.406977   22646.674419            NaN   \n",
       "std      63483.491009   28122.433474   41057.330740            NaN   \n",
       "min        124.000000     119.000000       0.000000            NaN   \n",
       "25%       4549.750000    2177.500000    1778.250000            NaN   \n",
       "50%      15104.000000    5434.000000    8386.500000            NaN   \n",
       "75%      38909.750000   14631.000000   22553.750000            NaN   \n",
       "max     393735.000000  173809.000000  307087.000000            NaN   \n",
       "\n",
       "        ShareWomen  Sample_size       Employed      Full_time      Part_time  \\\n",
       "count   172.000000   173.000000     173.000000     173.000000     173.000000   \n",
       "unique         NaN          NaN            NaN            NaN            NaN   \n",
       "top            NaN          NaN            NaN            NaN            NaN   \n",
       "freq           NaN          NaN            NaN            NaN            NaN   \n",
       "mean      0.522223   356.080925   31192.763006   26029.306358    8832.398844   \n",
       "std       0.231205   618.361022   50675.002241   42869.655092   14648.179473   \n",
       "min       0.000000     2.000000       0.000000     111.000000       0.000000   \n",
       "25%       0.336026    39.000000    3608.000000    3154.000000    1030.000000   \n",
       "50%       0.534024   130.000000   11797.000000   10048.000000    3299.000000   \n",
       "75%       0.703299   338.000000   31433.000000   25147.000000    9948.000000   \n",
       "max       0.968954  4212.000000  307933.000000  251540.000000  115172.000000   \n",
       "\n",
       "        Full_time_year_round    Unemployed  Unemployment_rate         Median  \\\n",
       "count             173.000000    173.000000         173.000000     173.000000   \n",
       "unique                   NaN           NaN                NaN            NaN   \n",
       "top                      NaN           NaN                NaN            NaN   \n",
       "freq                     NaN           NaN                NaN            NaN   \n",
       "mean            19694.427746   2416.329480           0.068191   40151.445087   \n",
       "std             33160.941514   4112.803148           0.030331   11470.181802   \n",
       "min               111.000000      0.000000           0.000000   22000.000000   \n",
       "25%              2453.000000    304.000000           0.050306   33000.000000   \n",
       "50%              7413.000000    893.000000           0.067961   36000.000000   \n",
       "75%             16891.000000   2393.000000           0.087557   45000.000000   \n",
       "max            199897.000000  28169.000000           0.177226  110000.000000   \n",
       "\n",
       "               P25th          P75th   College_jobs  Non_college_jobs  \\\n",
       "count     173.000000     173.000000     173.000000        173.000000   \n",
       "unique           NaN            NaN            NaN               NaN   \n",
       "top              NaN            NaN            NaN               NaN   \n",
       "freq             NaN            NaN            NaN               NaN   \n",
       "mean    29501.445087   51494.219653   12322.635838      13284.497110   \n",
       "std      9166.005235   14906.279740   21299.868863      23789.655363   \n",
       "min     18500.000000   22000.000000       0.000000          0.000000   \n",
       "25%     24000.000000   42000.000000    1675.000000       1591.000000   \n",
       "50%     27000.000000   47000.000000    4390.000000       4595.000000   \n",
       "75%     33000.000000   60000.000000   14444.000000      11783.000000   \n",
       "max     95000.000000  125000.000000  151643.000000     148395.000000   \n",
       "\n",
       "        Low_wage_jobs  \n",
       "count      173.000000  \n",
       "unique            NaN  \n",
       "top               NaN  \n",
       "freq              NaN  \n",
       "mean      3859.017341  \n",
       "std       6944.998579  \n",
       "min          0.000000  \n",
       "25%        340.000000  \n",
       "50%       1231.000000  \n",
       "75%       3466.000000  \n",
       "max      48207.000000  "
      ]
     },
     "execution_count": 6,
     "metadata": {},
     "output_type": "execute_result"
    }
   ],
   "source": [
    "# To generate summary statistics for all columns.\n",
    "\n",
    "recent_grads.describe(include = \"all\")"
   ]
  },
  {
   "cell_type": "markdown",
   "metadata": {},
   "source": [
    "Now let's check for any missing values in the dataset."
   ]
  },
  {
   "cell_type": "code",
   "execution_count": 7,
   "metadata": {
    "scrolled": false
   },
   "outputs": [
    {
     "name": "stdout",
     "output_type": "stream",
     "text": [
      "<class 'pandas.core.frame.DataFrame'>\n",
      "RangeIndex: 173 entries, 0 to 172\n",
      "Data columns (total 21 columns):\n",
      " #   Column                Non-Null Count  Dtype  \n",
      "---  ------                --------------  -----  \n",
      " 0   Rank                  173 non-null    int64  \n",
      " 1   Major_code            173 non-null    int64  \n",
      " 2   Major                 173 non-null    object \n",
      " 3   Total                 172 non-null    float64\n",
      " 4   Men                   172 non-null    float64\n",
      " 5   Women                 172 non-null    float64\n",
      " 6   Major_category        173 non-null    object \n",
      " 7   ShareWomen            172 non-null    float64\n",
      " 8   Sample_size           173 non-null    int64  \n",
      " 9   Employed              173 non-null    int64  \n",
      " 10  Full_time             173 non-null    int64  \n",
      " 11  Part_time             173 non-null    int64  \n",
      " 12  Full_time_year_round  173 non-null    int64  \n",
      " 13  Unemployed            173 non-null    int64  \n",
      " 14  Unemployment_rate     173 non-null    float64\n",
      " 15  Median                173 non-null    int64  \n",
      " 16  P25th                 173 non-null    int64  \n",
      " 17  P75th                 173 non-null    int64  \n",
      " 18  College_jobs          173 non-null    int64  \n",
      " 19  Non_college_jobs      173 non-null    int64  \n",
      " 20  Low_wage_jobs         173 non-null    int64  \n",
      "dtypes: float64(5), int64(14), object(2)\n",
      "memory usage: 28.5+ KB\n"
     ]
    }
   ],
   "source": [
    "# To view the dtype of each column in dataset.\n",
    "\n",
    "recent_grads.info()"
   ]
  },
  {
   "cell_type": "markdown",
   "metadata": {},
   "source": [
    "We can see that there are null values in some columns. Let's drop rows that have null values."
   ]
  },
  {
   "cell_type": "code",
   "execution_count": 8,
   "metadata": {},
   "outputs": [
    {
     "name": "stdout",
     "output_type": "stream",
     "text": [
      "The number of rows before droping null values:  173\n",
      "The number of rows after droping null values:  172\n"
     ]
    }
   ],
   "source": [
    "# Droping rows with null values.\n",
    "\n",
    "raw_data_count = recent_grads.shape[0]\n",
    "print(\"The number of rows before droping null values: \", raw_data_count)\n",
    "recent_grads = recent_grads.dropna(axis = \"index\")\n",
    "cleaned_data_count = recent_grads.shape[0]\n",
    "print(\"The number of rows after droping null values: \", cleaned_data_count)"
   ]
  },
  {
   "cell_type": "markdown",
   "metadata": {},
   "source": [
    "> Thus one row containing NULL value was droped.\n",
    "\n",
    "Lets rename the columns to snakecase."
   ]
  },
  {
   "cell_type": "code",
   "execution_count": 9,
   "metadata": {},
   "outputs": [
    {
     "name": "stdout",
     "output_type": "stream",
     "text": [
      "Index(['rank', 'major_code', 'major', 'total', 'men', 'women',\n",
      "       'major_category', 'women_share', 'sample_size', 'employed', 'full_time',\n",
      "       'part_time', 'full_time_year_round', 'unemployed', 'unemployment_rate',\n",
      "       'median', 'p25th', 'p75th', 'college_jobs', 'non_college_jobs',\n",
      "       'low_wage_jobs'],\n",
      "      dtype='object')\n"
     ]
    }
   ],
   "source": [
    "# To change the column names.\n",
    "\n",
    "recent_grads.columns = [\"rank\", \"major_code\", \"major\", \"total\", \"men\", \"women\", \"major_category\", \"women_share\", \n",
    "                        \"sample_size\", \"employed\", \"full_time\", \"part_time\", \"full_time_year_round\", \"unemployed\",\n",
    "                        \"unemployment_rate\", \"median\", \"p25th\", \"p75th\", \"college_jobs\", \"non_college_jobs\",\n",
    "                        \"low_wage_jobs\"]\n",
    "print(recent_grads.columns)"
   ]
  },
  {
   "cell_type": "code",
   "execution_count": 10,
   "metadata": {
    "scrolled": false
   },
   "outputs": [
    {
     "data": {
      "text/html": [
       "<div>\n",
       "<style scoped>\n",
       "    .dataframe tbody tr th:only-of-type {\n",
       "        vertical-align: middle;\n",
       "    }\n",
       "\n",
       "    .dataframe tbody tr th {\n",
       "        vertical-align: top;\n",
       "    }\n",
       "\n",
       "    .dataframe thead th {\n",
       "        text-align: right;\n",
       "    }\n",
       "</style>\n",
       "<table border=\"1\" class=\"dataframe\">\n",
       "  <thead>\n",
       "    <tr style=\"text-align: right;\">\n",
       "      <th></th>\n",
       "      <th>rank</th>\n",
       "      <th>major_code</th>\n",
       "      <th>major</th>\n",
       "      <th>total</th>\n",
       "      <th>men</th>\n",
       "      <th>women</th>\n",
       "      <th>major_category</th>\n",
       "      <th>women_share</th>\n",
       "      <th>sample_size</th>\n",
       "      <th>employed</th>\n",
       "      <th>full_time</th>\n",
       "      <th>part_time</th>\n",
       "      <th>full_time_year_round</th>\n",
       "      <th>unemployed</th>\n",
       "      <th>unemployment_rate</th>\n",
       "      <th>median</th>\n",
       "      <th>p25th</th>\n",
       "      <th>p75th</th>\n",
       "      <th>college_jobs</th>\n",
       "      <th>non_college_jobs</th>\n",
       "      <th>low_wage_jobs</th>\n",
       "    </tr>\n",
       "  </thead>\n",
       "  <tbody>\n",
       "    <tr>\n",
       "      <th>0</th>\n",
       "      <td>1</td>\n",
       "      <td>2419</td>\n",
       "      <td>PETROLEUM ENGINEERING</td>\n",
       "      <td>2339.0</td>\n",
       "      <td>2057.0</td>\n",
       "      <td>282.0</td>\n",
       "      <td>Engineering</td>\n",
       "      <td>0.120564</td>\n",
       "      <td>36</td>\n",
       "      <td>1976</td>\n",
       "      <td>1849</td>\n",
       "      <td>270</td>\n",
       "      <td>1207</td>\n",
       "      <td>37</td>\n",
       "      <td>0.018381</td>\n",
       "      <td>110000</td>\n",
       "      <td>95000</td>\n",
       "      <td>125000</td>\n",
       "      <td>1534</td>\n",
       "      <td>364</td>\n",
       "      <td>193</td>\n",
       "    </tr>\n",
       "    <tr>\n",
       "      <th>1</th>\n",
       "      <td>2</td>\n",
       "      <td>2416</td>\n",
       "      <td>MINING AND MINERAL ENGINEERING</td>\n",
       "      <td>756.0</td>\n",
       "      <td>679.0</td>\n",
       "      <td>77.0</td>\n",
       "      <td>Engineering</td>\n",
       "      <td>0.101852</td>\n",
       "      <td>7</td>\n",
       "      <td>640</td>\n",
       "      <td>556</td>\n",
       "      <td>170</td>\n",
       "      <td>388</td>\n",
       "      <td>85</td>\n",
       "      <td>0.117241</td>\n",
       "      <td>75000</td>\n",
       "      <td>55000</td>\n",
       "      <td>90000</td>\n",
       "      <td>350</td>\n",
       "      <td>257</td>\n",
       "      <td>50</td>\n",
       "    </tr>\n",
       "  </tbody>\n",
       "</table>\n",
       "</div>"
      ],
      "text/plain": [
       "   rank  major_code                           major   total     men  women  \\\n",
       "0     1        2419           PETROLEUM ENGINEERING  2339.0  2057.0  282.0   \n",
       "1     2        2416  MINING AND MINERAL ENGINEERING   756.0   679.0   77.0   \n",
       "\n",
       "  major_category  women_share  sample_size  employed  full_time  part_time  \\\n",
       "0    Engineering     0.120564           36      1976       1849        270   \n",
       "1    Engineering     0.101852            7       640        556        170   \n",
       "\n",
       "   full_time_year_round  unemployed  unemployment_rate  median  p25th   p75th  \\\n",
       "0                  1207          37           0.018381  110000  95000  125000   \n",
       "1                   388          85           0.117241   75000  55000   90000   \n",
       "\n",
       "   college_jobs  non_college_jobs  low_wage_jobs  \n",
       "0          1534               364            193  \n",
       "1           350               257             50  "
      ]
     },
     "execution_count": 10,
     "metadata": {},
     "output_type": "execute_result"
    }
   ],
   "source": [
    "# To view the first two rows.\n",
    "\n",
    "recent_grads.head(2)"
   ]
  },
  {
   "cell_type": "markdown",
   "metadata": {},
   "source": [
    "## Data Analysis\n",
    "\n",
    "Let's begin our analysis by ploting a scatter plot for `sample_size` and `median` column. `sample_size` column represent the unweighted sample size of full time employees and `median` column represent the median salary for various majors. "
   ]
  },
  {
   "cell_type": "code",
   "execution_count": 11,
   "metadata": {
    "scrolled": false
   },
   "outputs": [
    {
     "data": {
      "text/plain": [
       "<AxesSubplot:title={'center':'sample size versus median salary'}, xlabel='sample_size', ylabel='median'>"
      ]
     },
     "execution_count": 11,
     "metadata": {},
     "output_type": "execute_result"
    },
    {
     "data": {
      "image/png": "[encoded data removed]",
      "text/plain": [
       "<Figure size 432x288 with 1 Axes>"
      ]
     },
     "metadata": {
      "needs_background": "light"
     },
     "output_type": "display_data"
    }
   ],
   "source": [
    "# To scatter plot sample_size and median column.\n",
    "\n",
    "recent_grads.plot(x='sample_size', y='median', kind='scatter', title = \"sample size versus median salary\")"
   ]
  },
  {
   "cell_type": "markdown",
   "metadata": {},
   "source": [
    "Most of the sample_size is less than 500 and most of the median salary is less than 50,000. Most of the data points fit the above scenarios. For others as the sample size increases, the salary tend to decrease. Larger sample size represents a more popular major.\n",
    "\n",
    "Now let's do a scatter plot for `full_time` and `median` column."
   ]
  },
  {
   "cell_type": "code",
   "execution_count": 12,
   "metadata": {
    "scrolled": true
   },
   "outputs": [
    {
     "data": {
      "text/plain": [
       "<AxesSubplot:title={'center':'full time versus median salary'}, xlabel='full_time', ylabel='median'>"
      ]
     },
     "execution_count": 12,
     "metadata": {},
     "output_type": "execute_result"
    },
    {
     "data": {
      "image/png": "[encoded data removed]",
      "text/plain": [
       "<Figure size 432x288 with 1 Axes>"
      ]
     },
     "metadata": {
      "needs_background": "light"
     },
     "output_type": "display_data"
    }
   ],
   "source": [
    "# To scatter plot full_time and median column.\n",
    "\n",
    "recent_grads.plot(x='full_time', y='median', kind='scatter', title = \"full time versus median salary\")"
   ]
  },
  {
   "cell_type": "markdown",
   "metadata": {},
   "source": [
    "As the number of full time employees increases, the median salary tend to decrease. More full time employees represents a more popular major.\n",
    "\n",
    "> Thus a student pursuing a popular major isn't guaranteed to make more money than those pursuing a less popular major.\n",
    "\n",
    "Now let's do a scatter plot for `sample_size` and `unemployment_rate` column."
   ]
  },
  {
   "cell_type": "code",
   "execution_count": 13,
   "metadata": {},
   "outputs": [
    {
     "data": {
      "text/plain": [
       "<AxesSubplot:title={'center':'sample size versus unemployment rate'}, xlabel='sample_size', ylabel='unemployment_rate'>"
      ]
     },
     "execution_count": 13,
     "metadata": {},
     "output_type": "execute_result"
    },
    {
     "data": {
      "image/png": "[encoded data removed]",
      "text/plain": [
       "<Figure size 432x288 with 1 Axes>"
      ]
     },
     "metadata": {
      "needs_background": "light"
     },
     "output_type": "display_data"
    }
   ],
   "source": [
    "# To scatter plot sample_size and unemployment_rate column.\n",
    "\n",
    "recent_grads.plot(x='sample_size', y='unemployment_rate', kind='scatter', title = \"sample size versus unemployment rate\")"
   ]
  },
  {
   "cell_type": "markdown",
   "metadata": {},
   "source": [
    "Unemployment rate among various majors tend to concentrate between 5 and 10 percent. As the sample size increases, the unemployment rate narrows between 5 and 10 percent. \n",
    "\n",
    "> Thus a student pursuing a popular major doesn't necessarily have more opportunity than those pursuing a less popular major. \n",
    "\n",
    "Now let's do a scatter plot for `women_share` and `median` column."
   ]
  },
  {
   "cell_type": "code",
   "execution_count": 14,
   "metadata": {},
   "outputs": [
    {
     "data": {
      "text/plain": [
       "<AxesSubplot:title={'center':'women_share versus median salary'}, xlabel='women_share', ylabel='median'>"
      ]
     },
     "execution_count": 14,
     "metadata": {},
     "output_type": "execute_result"
    },
    {
     "data": {
      "image/png": "[encoded data removed]",
      "text/plain": [
       "<Figure size 432x288 with 1 Axes>"
      ]
     },
     "metadata": {
      "needs_background": "light"
     },
     "output_type": "display_data"
    }
   ],
   "source": [
    "# To scatter plot women_share and median column.\n",
    "\n",
    "recent_grads.plot(x='women_share', y='median', kind='scatter', title = \"women_share versus median salary\")"
   ]
  },
  {
   "cell_type": "markdown",
   "metadata": {},
   "source": [
    "As the share of women in a major increases, the median salary decreases.\n",
    "\n",
    "> Thus students that majored in subjects that were majority female probably make less money than those with less share of women.\n",
    "\n",
    "Now let's do a scatter plot for `men` and `median` column."
   ]
  },
  {
   "cell_type": "code",
   "execution_count": 15,
   "metadata": {},
   "outputs": [
    {
     "data": {
      "text/plain": [
       "<AxesSubplot:title={'center':'men versus median salary'}, xlabel='men', ylabel='median'>"
      ]
     },
     "execution_count": 15,
     "metadata": {},
     "output_type": "execute_result"
    },
    {
     "data": {
      "image/png": "[encoded data removed]",
      "text/plain": [
       "<Figure size 432x288 with 1 Axes>"
      ]
     },
     "metadata": {
      "needs_background": "light"
     },
     "output_type": "display_data"
    }
   ],
   "source": [
    "# To scatter plot men and median column.\n",
    "\n",
    "recent_grads.plot(x='men', y='median', kind='scatter', title = \"men versus median salary\")"
   ]
  },
  {
   "cell_type": "markdown",
   "metadata": {},
   "source": [
    "Now let's do a scatter plot for `women` and `median` column."
   ]
  },
  {
   "cell_type": "code",
   "execution_count": 16,
   "metadata": {},
   "outputs": [
    {
     "data": {
      "text/plain": [
       "<AxesSubplot:title={'center':'women versus median salary'}, xlabel='women', ylabel='median'>"
      ]
     },
     "execution_count": 16,
     "metadata": {},
     "output_type": "execute_result"
    },
    {
     "data": {
      "image/png": "[encoded data removed]",
      "text/plain": [
       "<Figure size 432x288 with 1 Axes>"
      ]
     },
     "metadata": {
      "needs_background": "light"
     },
     "output_type": "display_data"
    }
   ],
   "source": [
    "# To scatter plot women and median column.\n",
    "\n",
    "recent_grads.plot(x='women', y='median', kind='scatter', title = \"women versus median salary\")"
   ]
  },
  {
   "cell_type": "markdown",
   "metadata": {},
   "source": [
    "Generally, as the number of men or women in a major increases, the median salary decreases. This decrease in salary might be due to the high number of possible candidates against a few job openings(ie, More supply than demand).\n",
    "\n",
    "Let's explore the distribution of values in `sample_size` column."
   ]
  },
  {
   "cell_type": "code",
   "execution_count": 17,
   "metadata": {
    "scrolled": false
   },
   "outputs": [
    {
     "name": "stdout",
     "output_type": "stream",
     "text": [
      "count     172.000000\n",
      "mean      357.941860\n",
      "std       619.680419\n",
      "min         2.000000\n",
      "25%        42.000000\n",
      "50%       131.000000\n",
      "75%       339.000000\n",
      "max      4212.000000\n",
      "Name: sample_size, dtype: float64\n"
     ]
    },
    {
     "data": {
      "text/plain": [
       "<AxesSubplot:title={'center':'distribution of sample size'}, ylabel='Frequency'>"
      ]
     },
     "execution_count": 17,
     "metadata": {},
     "output_type": "execute_result"
    },
    {
     "data": {
      "image/png": "[encoded data removed]",
      "text/plain": [
       "<Figure size 432x288 with 1 Axes>"
      ]
     },
     "metadata": {
      "needs_background": "light"
     },
     "output_type": "display_data"
    }
   ],
   "source": [
    "# To explore the distribution of values in sample_size column.\n",
    "\n",
    "print(recent_grads['sample_size'].describe())\n",
    "recent_grads[\"sample_size\"].plot.hist(\n",
    "                                       bins=25, range=(0,5000), \n",
    "                                       title = \"distribution of sample size\",\n",
    "                                       grid = True\n",
    "                                     )"
   ]
  },
  {
   "cell_type": "markdown",
   "metadata": {},
   "source": [
    "Each bin represents 200 sample size. More than 75 percent of the sample size fall below 400. As the number of sample size increase beyond 400, the frequency drops below 10 as shown above. This means that for most of the analysis on various majors the sample size under consideration was very less. This in turn might be due to the extreme popularity of few of the majors over the rest.\n",
    "\n",
    "Now let's explore the distribution of values in `Median` column."
   ]
  },
  {
   "cell_type": "code",
   "execution_count": 18,
   "metadata": {},
   "outputs": [
    {
     "name": "stdout",
     "output_type": "stream",
     "text": [
      "count       172.000000\n",
      "mean      40076.744186\n",
      "std       11461.388773\n",
      "min       22000.000000\n",
      "25%       33000.000000\n",
      "50%       36000.000000\n",
      "75%       45000.000000\n",
      "max      110000.000000\n",
      "Name: median, dtype: float64\n"
     ]
    },
    {
     "data": {
      "text/plain": [
       "<AxesSubplot:title={'center':'distribution of median salary'}, ylabel='Frequency'>"
      ]
     },
     "execution_count": 18,
     "metadata": {},
     "output_type": "execute_result"
    },
    {
     "data": {
      "image/png": "[encoded data removed]",
      "text/plain": [
       "<Figure size 432x288 with 1 Axes>"
      ]
     },
     "metadata": {
      "needs_background": "light"
     },
     "output_type": "display_data"
    }
   ],
   "source": [
    "# To explore the distribution of values in median column.\n",
    "\n",
    "print(recent_grads['median'].describe())\n",
    "recent_grads['median'].plot.hist(\n",
    "                                       bins=25,\n",
    "                                       title = \"distribution of median salary\",\n",
    "                                       grid = True\n",
    "                                )"
   ]
  },
  {
   "cell_type": "markdown",
   "metadata": {},
   "source": [
    "More than 50 percent of the median salary fall below 40,000 and more than 75 percent of median salary fall below 50,000. This means that more than 75 percent of the majors have a median salary of less than 50,000. The salary distribution decreases when we move on to higher figures as seen from the above plot. This indicate that there are only a handful of majors that have a median earning potential of more than 60,000.\n",
    "\n",
    "Let's explore the distribution of values in `employed` column."
   ]
  },
  {
   "cell_type": "code",
   "execution_count": 19,
   "metadata": {},
   "outputs": [
    {
     "name": "stdout",
     "output_type": "stream",
     "text": [
      "count       172.00000\n",
      "mean      31355.80814\n",
      "std       50777.42865\n",
      "min           0.00000\n",
      "25%        3734.75000\n",
      "50%       12031.50000\n",
      "75%       31701.25000\n",
      "max      307933.00000\n",
      "Name: employed, dtype: float64\n"
     ]
    },
    {
     "data": {
      "text/plain": [
       "<AxesSubplot:title={'center':'distribution of employed'}, ylabel='Frequency'>"
      ]
     },
     "execution_count": 19,
     "metadata": {},
     "output_type": "execute_result"
    },
    {
     "data": {
      "image/png": "[encoded data removed]",
      "text/plain": [
       "<Figure size 432x288 with 1 Axes>"
      ]
     },
     "metadata": {
      "needs_background": "light"
     },
     "output_type": "display_data"
    }
   ],
   "source": [
    "# To explore the distribution of values in employed column.\n",
    "\n",
    "print(recent_grads['employed'].describe())\n",
    "recent_grads['employed'].plot.hist(\n",
    "                                       bins=25,\n",
    "                                       title = \"distribution of employed\",\n",
    "                                       grid = True\n",
    "                                    )"
   ]
  },
  {
   "cell_type": "markdown",
   "metadata": {},
   "source": [
    "More than 90 percent of the employed persons in a major fall below 50,000. There are only a handful of majors that have the number of employed people to be more than 50,000.\n",
    "\n",
    "Let's explore the distribution of values in `full_time` column."
   ]
  },
  {
   "cell_type": "code",
   "execution_count": 20,
   "metadata": {},
   "outputs": [
    {
     "name": "stdout",
     "output_type": "stream",
     "text": [
      "count       172.000000\n",
      "mean      26165.767442\n",
      "std       42957.122320\n",
      "min         111.000000\n",
      "25%        3181.000000\n",
      "50%       10073.500000\n",
      "75%       25447.250000\n",
      "max      251540.000000\n",
      "Name: full_time, dtype: float64\n"
     ]
    },
    {
     "data": {
      "text/plain": [
       "<AxesSubplot:title={'center':'distribution of full time employee'}, ylabel='Frequency'>"
      ]
     },
     "execution_count": 20,
     "metadata": {},
     "output_type": "execute_result"
    },
    {
     "data": {
      "image/png": "[encoded data removed]",
      "text/plain": [
       "<Figure size 432x288 with 1 Axes>"
      ]
     },
     "metadata": {
      "needs_background": "light"
     },
     "output_type": "display_data"
    }
   ],
   "source": [
    "# To explore the distribution of values in full_time column.\n",
    "\n",
    "print(recent_grads['full_time'].describe())\n",
    "recent_grads['full_time'].plot.hist(\n",
    "                                       bins=25,\n",
    "                                       title = \"distribution of full time employee\",\n",
    "                                       grid = True\n",
    "                                    )"
   ]
  },
  {
   "cell_type": "markdown",
   "metadata": {},
   "source": [
    "This column follows the trend similar to `employed` column. Most of the major that employs full time have a number of less than 50,000. Only a handful of major employs more than 50,000 people full time as shown from the above plot.\n",
    "\n",
    "Let's explore the distribution of values in `women_share` column."
   ]
  },
  {
   "cell_type": "code",
   "execution_count": 21,
   "metadata": {},
   "outputs": [
    {
     "name": "stdout",
     "output_type": "stream",
     "text": [
      "count    172.000000\n",
      "mean       0.522223\n",
      "std        0.231205\n",
      "min        0.000000\n",
      "25%        0.336026\n",
      "50%        0.534024\n",
      "75%        0.703299\n",
      "max        0.968954\n",
      "Name: women_share, dtype: float64\n"
     ]
    },
    {
     "data": {
      "text/plain": [
       "<AxesSubplot:title={'center':'distribution of women share'}, ylabel='Frequency'>"
      ]
     },
     "execution_count": 21,
     "metadata": {},
     "output_type": "execute_result"
    },
    {
     "data": {
      "image/png": "[encoded data removed]",
      "text/plain": [
       "<Figure size 432x288 with 1 Axes>"
      ]
     },
     "metadata": {
      "needs_background": "light"
     },
     "output_type": "display_data"
    }
   ],
   "source": [
    "# To explore the distribution of values in women_share column.\n",
    "\n",
    "print(recent_grads[\"women_share\"].describe())\n",
    "recent_grads['women_share'].plot.hist(\n",
    "                                       bins=25,\n",
    "                                       title = \"distribution of women share\",\n",
    "                                       grid = True\n",
    "                                    )"
   ]
  },
  {
   "cell_type": "markdown",
   "metadata": {},
   "source": [
    "Around 50 percent of the majors has a women share of less than half. The rest of the majors have a class with more women. There are no majors with only women students, but there are majors with zero women . The maximum women share is ~0.97 and the minimum is 0.\n",
    "\n",
    "Let's explore the distribution of values in `unemployment_rate` column."
   ]
  },
  {
   "cell_type": "code",
   "execution_count": 22,
   "metadata": {},
   "outputs": [
    {
     "name": "stdout",
     "output_type": "stream",
     "text": [
      "count    172.000000\n",
      "mean       0.068024\n",
      "std        0.030340\n",
      "min        0.000000\n",
      "25%        0.050261\n",
      "50%        0.067544\n",
      "75%        0.087247\n",
      "max        0.177226\n",
      "Name: unemployment_rate, dtype: float64\n"
     ]
    },
    {
     "data": {
      "text/plain": [
       "<AxesSubplot:title={'center':'distribution of unemployment rate'}, ylabel='Frequency'>"
      ]
     },
     "execution_count": 22,
     "metadata": {},
     "output_type": "execute_result"
    },
    {
     "data": {
      "image/png": "[encoded data removed]",
      "text/plain": [
       "<Figure size 432x288 with 1 Axes>"
      ]
     },
     "metadata": {
      "needs_background": "light"
     },
     "output_type": "display_data"
    }
   ],
   "source": [
    "# To explore the distribution of values in unemployment_rate column.\n",
    "\n",
    "print(recent_grads[\"unemployment_rate\"].describe())\n",
    "recent_grads[\"unemployment_rate\"].plot.hist(\n",
    "                                       bins=25,\n",
    "                                       title = \"distribution of unemployment rate\",\n",
    "                                       grid = True\n",
    "                                    )"
   ]
  },
  {
   "cell_type": "markdown",
   "metadata": {},
   "source": [
    "Around 50% of the majors has an unemployment rate of below 6.75%. Only a handful of majors has an unemployment rate above 15%. The minimum rate is 0% and the maximum rate is 17.7%.\n",
    "\n",
    "Let's explore the distribution of values in `men` column."
   ]
  },
  {
   "cell_type": "code",
   "execution_count": 23,
   "metadata": {},
   "outputs": [
    {
     "name": "stdout",
     "output_type": "stream",
     "text": [
      "count       172.000000\n",
      "mean      16723.406977\n",
      "std       28122.433474\n",
      "min         119.000000\n",
      "25%        2177.500000\n",
      "50%        5434.000000\n",
      "75%       14631.000000\n",
      "max      173809.000000\n",
      "Name: men, dtype: float64\n"
     ]
    },
    {
     "data": {
      "text/plain": [
       "<AxesSubplot:title={'center':'distribution of men'}, ylabel='Frequency'>"
      ]
     },
     "execution_count": 23,
     "metadata": {},
     "output_type": "execute_result"
    },
    {
     "data": {
      "image/png": "[encoded data removed]",
      "text/plain": [
       "<Figure size 432x288 with 1 Axes>"
      ]
     },
     "metadata": {
      "needs_background": "light"
     },
     "output_type": "display_data"
    }
   ],
   "source": [
    "# To explore the distribution of values in men column.\n",
    "\n",
    "print(recent_grads[\"men\"].describe())\n",
    "recent_grads['men'].plot.hist(\n",
    "                                       bins=25,\n",
    "                                       title = \"distribution of men\",\n",
    "                                       grid = True\n",
    "                                )"
   ]
  },
  {
   "cell_type": "markdown",
   "metadata": {},
   "source": [
    "Around 80% of the majors has the number of men below 25,000. The minimum number of men in any major is 119 and the maximum is 173,809. There are only a handful of majors that has the number of men to be more than 75,000.\n",
    "\n",
    "Let's explore the distribution of values in `women` column."
   ]
  },
  {
   "cell_type": "code",
   "execution_count": 24,
   "metadata": {},
   "outputs": [
    {
     "name": "stdout",
     "output_type": "stream",
     "text": [
      "count       172.000000\n",
      "mean      22646.674419\n",
      "std       41057.330740\n",
      "min           0.000000\n",
      "25%        1778.250000\n",
      "50%        8386.500000\n",
      "75%       22553.750000\n",
      "max      307087.000000\n",
      "Name: women, dtype: float64\n"
     ]
    },
    {
     "data": {
      "text/plain": [
       "<AxesSubplot:title={'center':'distribution of women'}, ylabel='Frequency'>"
      ]
     },
     "execution_count": 24,
     "metadata": {},
     "output_type": "execute_result"
    },
    {
     "data": {
      "image/png": "[encoded data removed]",
      "text/plain": [
       "<Figure size 432x288 with 1 Axes>"
      ]
     },
     "metadata": {
      "needs_background": "light"
     },
     "output_type": "display_data"
    }
   ],
   "source": [
    "# To explore the distribution of values in women column.\n",
    "\n",
    "print(recent_grads[\"women\"].describe())\n",
    "recent_grads['women'].plot.hist(\n",
    "                                       bins=25,\n",
    "                                       title = \"distribution of women\",\n",
    "                                       grid = True\n",
    "                                )"
   ]
  },
  {
   "cell_type": "markdown",
   "metadata": {},
   "source": [
    "There where no majors with no men, bur there are majors with no women. More than a quarter of majors have the number of women less than 2,500 and 80% of majors have less than 30,000 women. Only a handful of majors have more than 50,000 women.\n",
    "\n",
    "Now let's use scatter matrix to plot `sample_size` and `median` columns."
   ]
  },
  {
   "cell_type": "code",
   "execution_count": 25,
   "metadata": {},
   "outputs": [
    {
     "data": {
      "text/plain": [
       "array([[<AxesSubplot:xlabel='sample_size', ylabel='sample_size'>,\n",
       "        <AxesSubplot:xlabel='median', ylabel='sample_size'>],\n",
       "       [<AxesSubplot:xlabel='sample_size', ylabel='median'>,\n",
       "        <AxesSubplot:xlabel='median', ylabel='median'>]], dtype=object)"
      ]
     },
     "execution_count": 25,
     "metadata": {},
     "output_type": "execute_result"
    },
    {
     "data": {
      "image/png": "[encoded data removed]",
      "text/plain": [
       "<Figure size 576x576 with 4 Axes>"
      ]
     },
     "metadata": {
      "needs_background": "light"
     },
     "output_type": "display_data"
    }
   ],
   "source": [
    "# To scatter matrix plot sample_size and median columns.\n",
    "\n",
    "pd.plotting.scatter_matrix(recent_grads[[\"sample_size\",\"median\"]], figsize=(8,8))"
   ]
  },
  {
   "cell_type": "markdown",
   "metadata": {},
   "source": [
    "Let's use scatter matrix plot for `sample_size`, `median` and `unemployment_rate` columns."
   ]
  },
  {
   "cell_type": "code",
   "execution_count": 26,
   "metadata": {},
   "outputs": [
    {
     "data": {
      "text/plain": [
       "array([[<AxesSubplot:xlabel='sample_size', ylabel='sample_size'>,\n",
       "        <AxesSubplot:xlabel='median', ylabel='sample_size'>,\n",
       "        <AxesSubplot:xlabel='unemployment_rate', ylabel='sample_size'>],\n",
       "       [<AxesSubplot:xlabel='sample_size', ylabel='median'>,\n",
       "        <AxesSubplot:xlabel='median', ylabel='median'>,\n",
       "        <AxesSubplot:xlabel='unemployment_rate', ylabel='median'>],\n",
       "       [<AxesSubplot:xlabel='sample_size', ylabel='unemployment_rate'>,\n",
       "        <AxesSubplot:xlabel='median', ylabel='unemployment_rate'>,\n",
       "        <AxesSubplot:xlabel='unemployment_rate', ylabel='unemployment_rate'>]],\n",
       "      dtype=object)"
      ]
     },
     "execution_count": 26,
     "metadata": {},
     "output_type": "execute_result"
    },
    {
     "data": {
      "image/png": "[encoded data removed]",
      "text/plain": [
       "<Figure size 720x720 with 9 Axes>"
      ]
     },
     "metadata": {
      "needs_background": "light"
     },
     "output_type": "display_data"
    }
   ],
   "source": [
    "# To scatter matrix plot sample_size, median and unemployment_rate columns.\n",
    "\n",
    "pd.plotting.scatter_matrix(recent_grads[[\"sample_size\",\"median\",\"unemployment_rate\"]], figsize=(10,10))"
   ]
  },
  {
   "cell_type": "markdown",
   "metadata": {},
   "source": [
    "Questions to consider for our analysis are as follows.\n",
    "\n",
    "* Do students in more popular majors make more money?\n",
    "* Do students that majored in subjects that were majority female make more money?\n",
    "* Is there any link between the number of full-time employees and median salary?\n",
    "\n",
    "More sample_size represents a more popular major. As suggested by our earlier observations, most the sample_size values are less than 400. This represents a few majors with extreme popularity over others. As the sample size increases the salary tend to decrease. Some less popular majors tend to make more money than popular majors and there are examples where less popular major make less money than popular majors. This confirms our earlier assertion that a student pursuing a popular major isn't guaranteed to make more money than those pursuing a less popular major.\n",
    "\n",
    "Most of the majors have an unemployment rate between 5 and 10 percent. As the popularity of major increases the unemployment rate falls in between 5 and 10 percent. Some less popular majors have low unemployment rating than popular majors and there are examples where a less popular major have more unemployment rating than popular majors. This confirms our earlier assertion that a student pursuing a popular major doesn't necessarily have more opportunity than those pursuing a less popular major. \n",
    "\n",
    "An interesting observations in the above plot is the existence of majors that have a high median salary and a low unemployment rate. This translates to a high reward for less risk. Furthermore, there are majors with less earning potential and more unemployment rate.\n",
    "\n",
    "The observations made are as follows.\n",
    "\n",
    "* Few majors are extremely popular than the rest.\n",
    "* A student pursuing a popular major isn't guaranteed to make more money than those pursuing a less popular major.\n",
    "* A student pursuing a popular major doesn't necessarily have more opportunity than those pursuing a less popular major. \n",
    "* There are majors with low unemployment rate and very high earning potential."
   ]
  },
  {
   "cell_type": "code",
   "execution_count": 27,
   "metadata": {},
   "outputs": [
    {
     "data": {
      "text/plain": [
       "array([[<AxesSubplot:xlabel='women_share', ylabel='women_share'>,\n",
       "        <AxesSubplot:xlabel='median', ylabel='women_share'>,\n",
       "        <AxesSubplot:xlabel='full_time', ylabel='women_share'>],\n",
       "       [<AxesSubplot:xlabel='women_share', ylabel='median'>,\n",
       "        <AxesSubplot:xlabel='median', ylabel='median'>,\n",
       "        <AxesSubplot:xlabel='full_time', ylabel='median'>],\n",
       "       [<AxesSubplot:xlabel='women_share', ylabel='full_time'>,\n",
       "        <AxesSubplot:xlabel='median', ylabel='full_time'>,\n",
       "        <AxesSubplot:xlabel='full_time', ylabel='full_time'>]],\n",
       "      dtype=object)"
      ]
     },
     "execution_count": 27,
     "metadata": {},
     "output_type": "execute_result"
    },
    {
     "data": {
      "image/png": "[encoded data removed]",
      "text/plain": [
       "<Figure size 720x720 with 9 Axes>"
      ]
     },
     "metadata": {
      "needs_background": "light"
     },
     "output_type": "display_data"
    }
   ],
   "source": [
    "# To scatter matrix plot women_share, median and full_time columns.\n",
    "\n",
    "pd.plotting.scatter_matrix(recent_grads[[\"women_share\",\"median\",\"full_time\"]], figsize=(10,10))"
   ]
  },
  {
   "cell_type": "markdown",
   "metadata": {},
   "source": [
    "As the share of women in a major increases the median salary decreases. Thus students that majored in subjects that were majority female probably make less money than those with less share of women.\n",
    "\n",
    "As the number of full time employees increases in a major, the median salary tend to decrease and average out around 40,000. There are majors with less full time employees that make more money and those that make less money on average.\n",
    "\n",
    "The observations made are as follows.\n",
    "\n",
    "* Students that majored in subjects that were majority female probably make less money than those with less share of women.\n",
    "* Majors with more full time employees tend to make between 30,000 and 50,000.\n",
    "\n",
    "Let's create bar plots to compare the percentages of women (`women_share`) from the first ten rows and last ten rows of the `recent_grads` dataframe."
   ]
  },
  {
   "cell_type": "code",
   "execution_count": 28,
   "metadata": {},
   "outputs": [
    {
     "name": "stdout",
     "output_type": "stream",
     "text": [
      "0    0.120564\n",
      "1    0.101852\n",
      "2    0.153037\n",
      "3    0.107313\n",
      "4    0.341631\n",
      "5    0.144967\n",
      "6    0.441356\n",
      "7    0.535714\n",
      "8    0.119559\n",
      "9    0.196450\n",
      "Name: women_share, dtype: float64\n"
     ]
    },
    {
     "data": {
      "text/plain": [
       "<AxesSubplot:title={'center':'women share for first 10 rows'}>"
      ]
     },
     "execution_count": 28,
     "metadata": {},
     "output_type": "execute_result"
    },
    {
     "data": {
      "image/png": "[encoded data removed]",
      "text/plain": [
       "<Figure size 432x288 with 1 Axes>"
      ]
     },
     "metadata": {
      "needs_background": "light"
     },
     "output_type": "display_data"
    }
   ],
   "source": [
    "# To bar plot the first 10 rows of women_share column.\n",
    "\n",
    "first_10_rows = recent_grads.head(10)\n",
    "print(first_10_rows['women_share'])\n",
    "first_10_rows['women_share'].plot(\n",
    "                                    kind='bar', title = \"women share for first 10 rows\"\n",
    "                                 )"
   ]
  },
  {
   "cell_type": "code",
   "execution_count": 29,
   "metadata": {},
   "outputs": [
    {
     "name": "stdout",
     "output_type": "stream",
     "text": [
      "163    0.967998\n",
      "164    0.968954\n",
      "165    0.690111\n",
      "166    0.666119\n",
      "167    0.629505\n",
      "168    0.637293\n",
      "169    0.817099\n",
      "170    0.799859\n",
      "171    0.798746\n",
      "172    0.877960\n",
      "Name: women_share, dtype: float64\n"
     ]
    },
    {
     "data": {
      "text/plain": [
       "<AxesSubplot:title={'center':'women share for last 10 rows'}>"
      ]
     },
     "execution_count": 29,
     "metadata": {},
     "output_type": "execute_result"
    },
    {
     "data": {
      "image/png": "[encoded data removed]",
      "text/plain": [
       "<Figure size 432x288 with 1 Axes>"
      ]
     },
     "metadata": {
      "needs_background": "light"
     },
     "output_type": "display_data"
    }
   ],
   "source": [
    "# To bar plot the last 10 rows of women_share column.\n",
    "\n",
    "last_10_rows = recent_grads.tail(10)\n",
    "print(last_10_rows['women_share'])\n",
    "last_10_rows['women_share'].plot(\n",
    "                                    kind='bar', title = \"women share for last 10 rows\"\n",
    "                                )"
   ]
  },
  {
   "cell_type": "markdown",
   "metadata": {},
   "source": [
    "The entire `recent_grads` dataframe is arranged in descending order based on the median salary of various majors. The first 10 rows represents the majors with highest earning potential and the last 10 rows represents the majors with lowest earning potential. \n",
    "\n",
    "The percentage of women is less than 25% for 7 out of 10 top majors and the top women_share is only 53.57% for the top 10 majors. Whereas, the women_share of bottom 10 majors are above 60% for all the cases. This confirms that the majors with high percentage of women probably has low earning potential.\n",
    "\n",
    "Let's create bar plots to compare the unemployment rate (`unemployment_rate`) from the first ten rows and last ten rows of the recent_grads dataframe."
   ]
  },
  {
   "cell_type": "code",
   "execution_count": 30,
   "metadata": {},
   "outputs": [
    {
     "name": "stdout",
     "output_type": "stream",
     "text": [
      "0    0.018381\n",
      "1    0.117241\n",
      "2    0.024096\n",
      "3    0.050125\n",
      "4    0.061098\n",
      "5    0.177226\n",
      "6    0.095652\n",
      "7    0.021167\n",
      "8    0.057342\n",
      "9    0.059174\n",
      "Name: unemployment_rate, dtype: float64\n"
     ]
    },
    {
     "data": {
      "text/plain": [
       "<AxesSubplot:title={'center':'unemployment rate for first 10 rows'}>"
      ]
     },
     "execution_count": 30,
     "metadata": {},
     "output_type": "execute_result"
    },
    {
     "data": {
      "image/png": "[encoded data removed]",
      "text/plain": [
       "<Figure size 432x288 with 1 Axes>"
      ]
     },
     "metadata": {
      "needs_background": "light"
     },
     "output_type": "display_data"
    }
   ],
   "source": [
    "# To bar plot the first 10 rows of unemployment_rate column.\n",
    "\n",
    "print(first_10_rows['unemployment_rate'])\n",
    "first_10_rows['unemployment_rate'].plot(\n",
    "                                        kind='bar', title = \"unemployment rate for first 10 rows\"\n",
    "                                        )"
   ]
  },
  {
   "cell_type": "code",
   "execution_count": 31,
   "metadata": {},
   "outputs": [
    {
     "name": "stdout",
     "output_type": "stream",
     "text": [
      "163    0.047584\n",
      "164    0.040105\n",
      "165    0.107116\n",
      "166    0.077541\n",
      "167    0.081742\n",
      "168    0.046320\n",
      "169    0.065112\n",
      "170    0.149048\n",
      "171    0.053621\n",
      "172    0.104946\n",
      "Name: unemployment_rate, dtype: float64\n"
     ]
    },
    {
     "data": {
      "text/plain": [
       "<AxesSubplot:title={'center':'unemployment rate for last 10 rows'}>"
      ]
     },
     "execution_count": 31,
     "metadata": {},
     "output_type": "execute_result"
    },
    {
     "data": {
      "image/png": "[encoded data removed]",
      "text/plain": [
       "<Figure size 432x288 with 1 Axes>"
      ]
     },
     "metadata": {
      "needs_background": "light"
     },
     "output_type": "display_data"
    }
   ],
   "source": [
    "# To bar plot the last 10 rows of unemployment_rate column.\n",
    "\n",
    "print(last_10_rows['unemployment_rate'])\n",
    "last_10_rows['unemployment_rate'].plot(\n",
    "                                        kind = 'bar', title = \"unemployment rate for last 10 rows\"\n",
    "                                       )"
   ]
  },
  {
   "cell_type": "markdown",
   "metadata": {},
   "source": [
    "For 10 majors with high earning potential, the unemployment rate is below 6.2% for 7 majors and the maximum rate is 17.7%. \n",
    "\n",
    "For 10 majors with least earning potential, the unemployment rate is below 6.2% for only 4 majors and the maximum rate is 14.9%.\n",
    "\n",
    "Next we will compute the average unemployment rate for both top 10 and bottom 10 majors."
   ]
  },
  {
   "cell_type": "code",
   "execution_count": 32,
   "metadata": {},
   "outputs": [
    {
     "name": "stdout",
     "output_type": "stream",
     "text": [
      "The average unemployement rate for top 10 major is  6.815034360000001\n",
      "The average unemployement rate for bottom 10 major is  7.73135073\n"
     ]
    }
   ],
   "source": [
    "avg_top_10_majors = (first_10_rows['unemployment_rate'].mean()) * 100\n",
    "avg_bottom_10_majors = (last_10_rows['unemployment_rate'].mean()) * 100\n",
    "print(\"The average unemployement rate for top 10 major is \", avg_top_10_majors)\n",
    "print(\"The average unemployement rate for bottom 10 major is \", avg_bottom_10_majors)"
   ]
  },
  {
   "cell_type": "markdown",
   "metadata": {},
   "source": [
    "> Thus majors with high earning potential has low unemployment rate when compared with majors of low earning potential.\n",
    "\n",
    "Next let's use grouped bar plot to compare the number of men with the number of women in each category of majors."
   ]
  },
  {
   "cell_type": "code",
   "execution_count": 33,
   "metadata": {},
   "outputs": [
    {
     "name": "stdout",
     "output_type": "stream",
     "text": [
      "Index(['Engineering', 'Education', 'Humanities & Liberal Arts',\n",
      "       'Biology & Life Science', 'Business', 'Health',\n",
      "       'Computers & Mathematics', 'Physical Sciences',\n",
      "       'Agriculture & Natural Resources', 'Psychology & Social Work',\n",
      "       'Social Science', 'Arts', 'Industrial Arts & Consumer Services',\n",
      "       'Law & Public Policy', 'Communications & Journalism',\n",
      "       'Interdisciplinary'],\n",
      "      dtype='object')\n"
     ]
    }
   ],
   "source": [
    "# To find the various major categories.\n",
    "\n",
    "major_category = recent_grads[\"major_category\"].value_counts().sort_values(ascending = False).index\n",
    "print(major_category)"
   ]
  },
  {
   "cell_type": "code",
   "execution_count": 34,
   "metadata": {},
   "outputs": [],
   "source": [
    "# To find the number of men and women in each major categories.\n",
    "\n",
    "men_women_count_in_major_category = {}\n",
    "for value in major_category:\n",
    "    women = recent_grads.loc[recent_grads[\"major_category\"] == value, \"women\"].sum()\n",
    "    men = recent_grads.loc[recent_grads[\"major_category\"] == value, \"men\"].sum()\n",
    "    men_women_count_in_major_category[value] = [men, women] "
   ]
  },
  {
   "cell_type": "code",
   "execution_count": 35,
   "metadata": {},
   "outputs": [
    {
     "data": {
      "text/plain": [
       "<AxesSubplot:title={'center':'men versus women in each major category'}>"
      ]
     },
     "execution_count": 35,
     "metadata": {},
     "output_type": "execute_result"
    },
    {
     "data": {
      "image/png": "[encoded data removed]",
      "text/plain": [
       "<Figure size 1080x360 with 1 Axes>"
      ]
     },
     "metadata": {
      "needs_background": "light"
     },
     "output_type": "display_data"
    }
   ],
   "source": [
    "# To generate grouped bar plot to compare the number of men with the number of women in each category of majors.\n",
    "\n",
    "men_women_in_major_category = pd.DataFrame.from_dict( men_women_count_in_major_category, orient='index', \n",
    "                                                      columns = [\"men\", \"women\"]\n",
    "                                                    )\n",
    "men_women_in_major_category.plot.bar(\n",
    "                                        rot= 90, figsize=(15,5), \n",
    "                                        title = \"men versus women in each major category\"\n",
    "                                    )"
   ]
  },
  {
   "cell_type": "markdown",
   "metadata": {},
   "source": [
    "There are 16 major categories. The number of women is more in 10 categories. Business is the category with maximum number of students and interdisciplinary is the one with least number of students. Engineering is the only major dominated by men by over 200,000 students. Education, Health, Psychology & Social Work are dominated by women by over 200,000 students.\n",
    "\n",
    "> Engineering contain predominantly male students and Education, Health, Psychology & Social Work contain predominantly female students.\n",
    "\n",
    "> Business is the category with maximum number of students and interdisciplinary is the one with least number of students.\n",
    "\n",
    "Next let's use box plot to explore the distributions of median salaries and unemployment rate."
   ]
  },
  {
   "cell_type": "code",
   "execution_count": 36,
   "metadata": {
    "scrolled": false
   },
   "outputs": [
    {
     "name": "stdout",
     "output_type": "stream",
     "text": [
      "count       172.000000\n",
      "mean      40076.744186\n",
      "std       11461.388773\n",
      "min       22000.000000\n",
      "25%       33000.000000\n",
      "50%       36000.000000\n",
      "75%       45000.000000\n",
      "max      110000.000000\n",
      "Name: median, dtype: float64\n"
     ]
    },
    {
     "data": {
      "text/plain": [
       "<AxesSubplot:title={'center':'box whisker plot for median salaries'}>"
      ]
     },
     "execution_count": 36,
     "metadata": {},
     "output_type": "execute_result"
    },
    {
     "data": {
      "image/png": "[encoded data removed]",
      "text/plain": [
       "<Figure size 432x288 with 1 Axes>"
      ]
     },
     "metadata": {
      "needs_background": "light"
     },
     "output_type": "display_data"
    }
   ],
   "source": [
    "# To box plot the distributions of median salaries.\n",
    "\n",
    "print(recent_grads[\"median\"].describe())\n",
    "recent_grads['median'].plot(kind = \"box\", title = \"box whisker plot for median salaries\")"
   ]
  },
  {
   "cell_type": "markdown",
   "metadata": {},
   "source": [
    "The 25 percentile of median salary is 33,000 and the 50 percentile is 36,000. This indicates that over 25% of the total median salaries from all majors are within 3,000. The 75 percentile of median salary is 45,000. This indicate that a majority of students earn in between this gap. There are some outliners beyond 65,000 as shown in the above plot."
   ]
  },
  {
   "cell_type": "code",
   "execution_count": 37,
   "metadata": {
    "scrolled": false
   },
   "outputs": [
    {
     "name": "stdout",
     "output_type": "stream",
     "text": [
      "count    172.000000\n",
      "mean       0.068024\n",
      "std        0.030340\n",
      "min        0.000000\n",
      "25%        0.050261\n",
      "50%        0.067544\n",
      "75%        0.087247\n",
      "max        0.177226\n",
      "Name: unemployment_rate, dtype: float64\n"
     ]
    },
    {
     "data": {
      "text/plain": [
       "<AxesSubplot:title={'center':'box whisker plot for unemployment rate'}>"
      ]
     },
     "execution_count": 37,
     "metadata": {},
     "output_type": "execute_result"
    },
    {
     "data": {
      "image/png": "[encoded data removed]",
      "text/plain": [
       "<Figure size 432x288 with 1 Axes>"
      ]
     },
     "metadata": {
      "needs_background": "light"
     },
     "output_type": "display_data"
    }
   ],
   "source": [
    "# To box plot the distributions of unemployment rate.\n",
    "\n",
    "print(recent_grads[\"unemployment_rate\"].describe())\n",
    "recent_grads['unemployment_rate'].plot(kind = \"box\", title = \"box whisker plot for unemployment rate\")"
   ]
  },
  {
   "cell_type": "markdown",
   "metadata": {},
   "source": [
    "The unemployment rate in various majors varies from 5% in 25 percentile to 8.7% in 75 percentile. Anything above a 13% unemployment rate is considered to be an outliner as shown in the above plot."
   ]
  },
  {
   "cell_type": "markdown",
   "metadata": {},
   "source": [
    "## Conclusions\n",
    "\n",
    "Some conclusions are paradoxical in nature and they are as follows.\n",
    "\n",
    "* A student enrolled in a popular major isn't guaranteed to have a high earning potential.\n",
    "* Majors with greater women share tends to have less earning potential. \n",
    "* There are majors with low unemployment rate and very high earning potential.\n",
    "\n",
    "The effects of gender distribution and popularity of majors on the future earning potential is successfully visualized."
   ]
  }
 ],
 "metadata": {
  "kernelspec": {
   "display_name": "Python 3",
   "language": "python",
   "name": "python3"
  },
  "language_info": {
   "codemirror_mode": {
    "name": "ipython",
    "version": 3
   },
   "file_extension": ".py",
   "mimetype": "text/x-python",
   "name": "python",
   "nbconvert_exporter": "python",
   "pygments_lexer": "ipython3",
   "version": "3.8.8"
  },
  "toc": {
   "base_numbering": 1,
   "nav_menu": {},
   "number_sections": false,
   "sideBar": true,
   "skip_h1_title": false,
   "title_cell": "Table of Contents",
   "title_sidebar": "Contents",
   "toc_cell": false,
   "toc_position": {},
   "toc_section_display": true,
   "toc_window_display": false
  },
  "varInspector": {
   "cols": {
    "lenName": 16,
    "lenType": 16,
    "lenVar": 40
   },
   "kernels_config": {
    "python": {
     "delete_cmd_postfix": "",
     "delete_cmd_prefix": "del ",
     "library": "var_list.py",
     "varRefreshCmd": "print(var_dic_list())"
    },
    "r": {
     "delete_cmd_postfix": ") ",
     "delete_cmd_prefix": "rm(",
     "library": "var_list.r",
     "varRefreshCmd": "cat(var_dic_list()) "
    }
   },
   "types_to_exclude": [
    "module",
    "function",
    "builtin_function_or_method",
    "instance",
    "_Feature"
   ],
   "window_display": false
  }
 },
 "nbformat": 4,
 "nbformat_minor": 2
}
